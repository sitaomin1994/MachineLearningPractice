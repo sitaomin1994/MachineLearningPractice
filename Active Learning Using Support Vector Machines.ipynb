{
 "cells": [
  {
   "cell_type": "markdown",
   "metadata": {},
   "source": [
    "# Active Learning Using Support Vector Machines"
   ]
  },
  {
   "cell_type": "markdown",
   "metadata": {},
   "source": [
    "### Sitao Min"
   ]
  },
  {
   "cell_type": "markdown",
   "metadata": {},
   "source": [
    "### (a) Download the banknote authentication Data Set from: https://archive.ics.uci.edu/ml/datasets/banknote+authentication. Choose 472 data points randomly as the test set. This is a binary classification problem."
   ]
  },
  {
   "cell_type": "code",
   "execution_count": 62,
   "metadata": {},
   "outputs": [],
   "source": [
    "import pandas as pd\n",
    "import numpy as np\n",
    "import matplotlib.pyplot as plt\n",
    "from sklearn.preprocessing import StandardScaler\n",
    "from sklearn.model_selection import GridSearchCV\n",
    "from sklearn.metrics import accuracy_score\n",
    "from sklearn.model_selection import StratifiedKFold\n",
    "from sklearn.utils import resample\n",
    "from numpy import linalg as LA\n",
    "from sklearn.utils import resample\n",
    "from sklearn import svm\n",
    "from sklearn.metrics import accuracy_score\n",
    "from sklearn.svm import SVC\n",
    "from sklearn.svm import LinearSVC\n",
    "import time as time\n",
    "import warnings\n",
    "warnings.filterwarnings(\"ignore\")\n",
    "\n",
    "data1_path = 'data_banknote_authentication.txt'\n",
    "data1 = pd.read_table(data1_path,sep = ',',header = None)\n",
    "data1.columns = ['variance','skewness','cutorsis','entropy','class']"
   ]
  },
  {
   "cell_type": "code",
   "execution_count": 72,
   "metadata": {},
   "outputs": [
    {
     "data": {
      "text/html": [
       "<div>\n",
       "<style scoped>\n",
       "    .dataframe tbody tr th:only-of-type {\n",
       "        vertical-align: middle;\n",
       "    }\n",
       "\n",
       "    .dataframe tbody tr th {\n",
       "        vertical-align: top;\n",
       "    }\n",
       "\n",
       "    .dataframe thead th {\n",
       "        text-align: right;\n",
       "    }\n",
       "</style>\n",
       "<table border=\"1\" class=\"dataframe\">\n",
       "  <thead>\n",
       "    <tr style=\"text-align: right;\">\n",
       "      <th></th>\n",
       "      <th>variance</th>\n",
       "      <th>skewness</th>\n",
       "      <th>cutorsis</th>\n",
       "      <th>entropy</th>\n",
       "      <th>class</th>\n",
       "    </tr>\n",
       "  </thead>\n",
       "  <tbody>\n",
       "    <tr>\n",
       "      <th>0</th>\n",
       "      <td>3.62160</td>\n",
       "      <td>8.6661</td>\n",
       "      <td>-2.8073</td>\n",
       "      <td>-0.44699</td>\n",
       "      <td>0</td>\n",
       "    </tr>\n",
       "    <tr>\n",
       "      <th>1</th>\n",
       "      <td>4.54590</td>\n",
       "      <td>8.1674</td>\n",
       "      <td>-2.4586</td>\n",
       "      <td>-1.46210</td>\n",
       "      <td>0</td>\n",
       "    </tr>\n",
       "    <tr>\n",
       "      <th>2</th>\n",
       "      <td>3.86600</td>\n",
       "      <td>-2.6383</td>\n",
       "      <td>1.9242</td>\n",
       "      <td>0.10645</td>\n",
       "      <td>0</td>\n",
       "    </tr>\n",
       "    <tr>\n",
       "      <th>3</th>\n",
       "      <td>3.45660</td>\n",
       "      <td>9.5228</td>\n",
       "      <td>-4.0112</td>\n",
       "      <td>-3.59440</td>\n",
       "      <td>0</td>\n",
       "    </tr>\n",
       "    <tr>\n",
       "      <th>4</th>\n",
       "      <td>0.32924</td>\n",
       "      <td>-4.4552</td>\n",
       "      <td>4.5718</td>\n",
       "      <td>-0.98880</td>\n",
       "      <td>0</td>\n",
       "    </tr>\n",
       "  </tbody>\n",
       "</table>\n",
       "</div>"
      ],
      "text/plain": [
       "   variance  skewness  cutorsis  entropy  class\n",
       "0   3.62160    8.6661   -2.8073 -0.44699      0\n",
       "1   4.54590    8.1674   -2.4586 -1.46210      0\n",
       "2   3.86600   -2.6383    1.9242  0.10645      0\n",
       "3   3.45660    9.5228   -4.0112 -3.59440      0\n",
       "4   0.32924   -4.4552    4.5718 -0.98880      0"
      ]
     },
     "execution_count": 72,
     "metadata": {},
     "output_type": "execute_result"
    }
   ],
   "source": [
    "data1.head()"
   ]
  },
  {
   "cell_type": "code",
   "execution_count": 73,
   "metadata": {},
   "outputs": [
    {
     "data": {
      "text/plain": [
       "(1372, 5)"
      ]
     },
     "execution_count": 73,
     "metadata": {},
     "output_type": "execute_result"
    }
   ],
   "source": [
    "data1.shape"
   ]
  },
  {
   "cell_type": "code",
   "execution_count": 248,
   "metadata": {},
   "outputs": [
    {
     "name": "stdout",
     "output_type": "stream",
     "text": [
      "(472, 5)\n",
      "(900, 5)\n"
     ]
    },
    {
     "data": {
      "text/plain": [
       "0    489\n",
       "1    411\n",
       "Name: class, dtype: int64"
      ]
     },
     "execution_count": 248,
     "metadata": {},
     "output_type": "execute_result"
    }
   ],
   "source": [
    "from sklearn.utils import resample\n",
    "\n",
    "test_data = resample(data1, n_samples = 472 ,replace = False, random_state = 1)\n",
    "\n",
    "print(test_data.shape)\n",
    "\n",
    "train_data = data1.drop(test_data.index.values,axis = 0)\n",
    "\n",
    "print(train_data.shape)\n",
    "train_data['class'].value_counts()"
   ]
  },
  {
   "cell_type": "markdown",
   "metadata": {},
   "source": [
    "### (b) Monte Carlos Simulations of Active and Passive Learning"
   ]
  },
  {
   "cell_type": "markdown",
   "metadata": {},
   "source": [
    "### i. Passive Learning: Train a SVM with a pool of 10 randomly selected data points from the training set using linear kernel and L1 penalty. Repeat this process by adding 10 other randomly selected data points to the pool, until you use all the 900 points. "
   ]
  },
  {
   "cell_type": "code",
   "execution_count": 249,
   "metadata": {},
   "outputs": [],
   "source": [
    "from sklearn.preprocessing import StandardScaler\n",
    "X_train = train_data.iloc[:,0:-1]\n",
    "X_test = test_data.iloc[:,0:-1]\n",
    "scaler = StandardScaler()\n",
    "X_train = scaler.fit_transform(X_train)\n",
    "X_test = scaler.fit_transform(X_test)\n",
    "\n",
    "train_data.iloc[:,0:-1] = X_train\n",
    "test_data.iloc[:,0:-1] = X_test"
   ]
  },
  {
   "cell_type": "code",
   "execution_count": 250,
   "metadata": {},
   "outputs": [],
   "source": [
    "from sklearn import svm\n",
    "from sklearn.model_selection import GridSearchCV\n",
    "from sklearn.metrics import accuracy_score\n",
    "from sklearn.model_selection import StratifiedKFold\n",
    "def handle_svm(train_data,test_data,threshold, verbose = False, low_begin = -8, low_end = 0, \n",
    "                                               up_begin = 8, up_end = 0, n_samples = 5):\n",
    "    \n",
    "    X_train = train_data.iloc[:,0:-1]\n",
    "    y_train = train_data.iloc[:,-1]\n",
    "    X_test = test_data.iloc[:,0:-1]\n",
    "    y_test = test_data.iloc[:,-1]\n",
    "    \n",
    "    upper_threshold = 0\n",
    "    lower_threshold = 0\n",
    "    \n",
    "    # find lower and upper threshold\n",
    "    for i in range(low_begin,low_end+1):\n",
    "        estimator = svm.LinearSVC(C = 10**(i),penalty = 'l1',random_state = 21,dual = False)\n",
    "        estimator.fit(X_train,y_train)\n",
    "        y_pred = estimator.predict(X_train)\n",
    "        accuracy = accuracy_score(y_train,y_pred)\n",
    "        if(accuracy >= threshold):\n",
    "            lower_threshold = i \n",
    "            break\n",
    "        if i == 0:\n",
    "            raise NameError('Cannot find Lower threshold,please increase scale!')\n",
    "            \n",
    "    for i in range(up_begin,up_end-1):\n",
    "        estimator = svm.LinearSVC(penalty = 'l1',random_state = 21, C = 10**(i),dual = False)\n",
    "        estimator.fit(X_train,y_train)\n",
    "        y_pred = estimator.predict(X_train)\n",
    "        accuracy = accuracy_score(y_train,y_pred)\n",
    "        if(accuracy >= threshold):\n",
    "            upper_threshold = i\n",
    "            break\n",
    "        if i == 0:\n",
    "            print('not found')\n",
    "            raise NameError('Cannot find Upper threshold,please increase scale!') \n",
    "    \n",
    "    if(verbose == True):\n",
    "        print(lower_threshold,upper_threshold)\n",
    "    C_list = np.logspace(lower_threshold,upper_threshold,n_samples)\n",
    "    \n",
    "    estimator = svm.LinearSVC(penalty = 'l1',random_state = 21,dual = False)\n",
    "    \n",
    "    grid_search = GridSearchCV(estimator, param_grid = {'C':C_list}, cv = StratifiedKFold(5),refit = True)\n",
    "    grid_search.fit(X_train,y_train)\n",
    "    \n",
    "    bst = grid_search.best_estimator_\n",
    "    \n",
    "    bst.fit(X_train,y_train)\n",
    "    y_pred = bst.predict(X_test)\n",
    "    \n",
    "    error = 1 - accuracy_score(y_test,y_pred)\n",
    "    \n",
    "    if(verbose == True):\n",
    "        print('best params:',grid_search.best_params_['C'])\n",
    "        print('svm error:',error)\n",
    "    \n",
    "    return error,bst"
   ]
  },
  {
   "cell_type": "code",
   "execution_count": 227,
   "metadata": {},
   "outputs": [],
   "source": [
    "from sklearn.utils import resample\n",
    "\n",
    "def train_passive_svms(train_data, test_data,random_state,verbose = False):\n",
    "    \n",
    "    pool = resample(train_data, n_samples = 10,random_state = random_state,replace = False)\n",
    "    error_list = []\n",
    "    model_list = []\n",
    "    \n",
    "    for i in range(1,int(len(train_data)/10)+1):\n",
    "    \n",
    "        error,model = handle_svm(pool,test_data,0.9, verbose = verbose)\n",
    "        error_list.append(error)\n",
    "        model_list.append(model)\n",
    "        selected_data = resample(train_data, n_samples = 10,replace = False,random_state = random_state)\n",
    "        pool = pd.concat([pool,selected_data],axis = 0)\n",
    "    \n",
    "    return error_list,model_list"
   ]
  },
  {
   "cell_type": "code",
   "execution_count": 252,
   "metadata": {},
   "outputs": [
    {
     "name": "stdout",
     "output_type": "stream",
     "text": [
      "round 0 finished\n",
      "round 1 finished\n",
      "round 2 finished\n",
      "round 3 finished\n",
      "round 4 finished\n",
      "round 5 finished\n",
      "round 6 finished\n",
      "round 7 finished\n",
      "round 8 finished\n",
      "round 9 finished\n",
      "round 10 finished\n",
      "round 11 finished\n",
      "round 12 finished\n",
      "round 13 finished\n",
      "round 14 finished\n",
      "round 15 finished\n",
      "round 16 finished\n",
      "round 17 finished\n",
      "round 18 finished\n",
      "round 19 finished\n",
      "round 20 finished\n",
      "round 21 finished\n",
      "round 22 finished\n",
      "round 23 finished\n",
      "round 24 finished\n",
      "round 25 finished\n",
      "round 26 finished\n",
      "round 27 finished\n",
      "round 28 finished\n",
      "round 29 finished\n",
      "round 30 finished\n",
      "round 31 finished\n",
      "round 32 finished\n",
      "round 33 finished\n",
      "round 34 finished\n",
      "round 35 finished\n",
      "round 36 finished\n",
      "round 37 finished\n",
      "round 38 finished\n",
      "round 39 finished\n",
      "round 40 finished\n",
      "round 41 finished\n",
      "round 42 finished\n",
      "round 43 finished\n",
      "round 44 finished\n",
      "round 45 finished\n",
      "round 46 finished\n",
      "round 47 finished\n",
      "round 48 finished\n",
      "round 49 finished\n"
     ]
    }
   ],
   "source": [
    "svms_error_passive = pd.DataFrame(np.ones((50,90)))\n",
    "\n",
    "for i in range(0,50):\n",
    "    error_list, model_list = train_passive_svms(train_data, test_data, random_state = i+4)\n",
    "    svms_error_passive.iloc[i,:] = error_list\n",
    "    print('round %i finished'%i)"
   ]
  },
  {
   "cell_type": "markdown",
   "metadata": {},
   "source": [
    "### ii. Active Learning: Train a SVM with a pool of 10 randomly selected data points from the training set using linear kernel and L1 penalty. Select the parameters of the SVM with 10-fold cross validation. Choose the 10 closest data points in the training set to the hyperplane of the SVM2 and add them to the pool.\n"
   ]
  },
  {
   "cell_type": "code",
   "execution_count": 79,
   "metadata": {},
   "outputs": [],
   "source": [
    "from sklearn.utils import resample\n",
    "from numpy import linalg as LA\n",
    "\n",
    "def train_active_svms(train_data, test_data, random_state, verbose = False):\n",
    "    \n",
    "    pool = resample(train_data, n_samples = 10, random_state = ramdom_state, replace = False)\n",
    "    \n",
    "    error_list = []\n",
    "    model_list = []\n",
    "    \n",
    "    train_data_copy = train_data.copy()\n",
    "    \n",
    "    for i in range(1,int(len(train_data)/10)+1):\n",
    "    \n",
    "        error, model = handle_svm(pool,test_data,0.7, verbose = verbose)\n",
    "        error_list.append(error)\n",
    "        model_list.append(model)\n",
    "        \n",
    "        w = model.coef_\n",
    "        b = model.intercept_ \n",
    "        features = train_data_copy.iloc[:,0:-1].values\n",
    "        \n",
    "        distance = (np.inner(w,features) - b)/LA.norm(w)\n",
    "        selected_index = np.argsort(distance).ravel()\n",
    "        selected_index = selected_index[0:10]\n",
    "        selected_data = train_data_copy.iloc[selected_index,:]\n",
    "        train_data_copy = train_data_copy.drop(index = selected_data.index)\n",
    "        \n",
    "        pool = pd.concat([pool,selected_data],axis = 0)\n",
    "    \n",
    "    return error_list,model_list"
   ]
  },
  {
   "cell_type": "code",
   "execution_count": 80,
   "metadata": {},
   "outputs": [
    {
     "name": "stdout",
     "output_type": "stream",
     "text": [
      "round 0 finished\n",
      "round 1 finished\n",
      "round 2 finished\n",
      "round 3 finished\n",
      "round 4 finished\n",
      "round 5 finished\n",
      "round 6 finished\n",
      "round 7 finished\n",
      "round 8 finished\n",
      "round 9 finished\n",
      "round 10 finished\n",
      "round 11 finished\n",
      "round 12 finished\n",
      "round 13 finished\n",
      "round 14 finished\n",
      "round 15 finished\n",
      "round 16 finished\n",
      "round 17 finished\n",
      "round 18 finished\n",
      "round 19 finished\n",
      "round 20 finished\n",
      "round 21 finished\n",
      "round 22 finished\n",
      "round 23 finished\n",
      "round 24 finished\n",
      "round 25 finished\n",
      "round 26 finished\n",
      "round 27 finished\n",
      "round 28 finished\n",
      "round 29 finished\n",
      "round 30 finished\n",
      "round 31 finished\n",
      "round 32 finished\n",
      "round 33 finished\n",
      "round 34 finished\n",
      "round 35 finished\n",
      "round 36 finished\n",
      "round 37 finished\n",
      "round 38 finished\n",
      "round 39 finished\n",
      "round 40 finished\n",
      "round 41 finished\n",
      "round 42 finished\n",
      "round 43 finished\n",
      "round 44 finished\n",
      "round 45 finished\n",
      "round 46 finished\n",
      "round 47 finished\n",
      "round 48 finished\n",
      "round 49 finished\n"
     ]
    }
   ],
   "source": [
    "import warnings\n",
    "warnings.filterwarnings(\"ignore\")\n",
    "\n",
    "svms_error_active = pd.DataFrame(np.ones((50,90)))\n",
    "\n",
    "for i in range(0,50):\n",
    "    error_list, model_list = train_active_svms(train_data, test_data,random_state = i)\n",
    "    svms_error_active.iloc[i,:] = error_list\n",
    "    print('round %i finished'%i)"
   ]
  },
  {
   "cell_type": "markdown",
   "metadata": {},
   "source": [
    "### (c) Result"
   ]
  },
  {
   "cell_type": "code",
   "execution_count": 81,
   "metadata": {},
   "outputs": [
    {
     "data": {
      "image/png": "[encoded data removed]",
      "text/plain": [
       "<Figure size 864x576 with 1 Axes>"
      ]
     },
     "metadata": {},
     "output_type": "display_data"
    }
   ],
   "source": [
    "x = range(0,900,10)\n",
    "plt.figure(figsize=(12,8))\n",
    "plt.plot(x,svms_error_active.mean().values,label = 'Active learning svm error')\n",
    "plt.plot(x,svms_error_passive.mean().values,label = 'Passive learning svm error')\n",
    "plt.legend()\n",
    "plt.xlabel('size of training set')\n",
    "plt.ylabel('error rate')\n",
    "plt.show()"
   ]
  },
  {
   "cell_type": "code",
   "execution_count": 155,
   "metadata": {},
   "outputs": [],
   "source": [
    "svms_error_active.to_csv('Q1_b-i.csv')\n",
    "svms_error_passive.to_csv('Q1_b-ii.csv')"
   ]
  }
 ],
 "metadata": {
  "kernelspec": {
   "display_name": "Python 3",
   "language": "python",
   "name": "python3"
  },
  "language_info": {
   "codemirror_mode": {
    "name": "ipython",
    "version": 3
   },
   "file_extension": ".py",
   "mimetype": "text/x-python",
   "name": "python",
   "nbconvert_exporter": "python",
   "pygments_lexer": "ipython3",
   "version": "3.6.5"
  }
 },
 "nbformat": 4,
 "nbformat_minor": 2
}
