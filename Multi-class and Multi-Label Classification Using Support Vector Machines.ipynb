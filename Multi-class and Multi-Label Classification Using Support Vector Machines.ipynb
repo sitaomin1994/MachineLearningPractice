{
 "cells": [
  {
   "cell_type": "markdown",
   "metadata": {},
   "source": [
    "# Multi-class and Multi-Label Classification Using Support Vector Machines"
   ]
  },
  {
   "cell_type": "markdown",
   "metadata": {},
   "source": [
    "### Sitao Min"
   ]
  },
  {
   "cell_type": "markdown",
   "metadata": {},
   "source": [
    "### (a) Download the Anuran Calls (MFCCs) Data Set from: https://archive.ics.uci.edu/ml/datasets/Anuran+Calls+%28MFCCs%29#. Choose 70% of the data randomly as the training set."
   ]
  },
  {
   "cell_type": "code",
   "execution_count": 6,
   "metadata": {},
   "outputs": [
    {
     "data": {
      "text/plain": [
       "(7195, 26)"
      ]
     },
     "execution_count": 6,
     "metadata": {},
     "output_type": "execute_result"
    }
   ],
   "source": [
    "data2 = pd.read_csv('./Frogs_MFCCs.csv')\n",
    "data2.shape"
   ]
  },
  {
   "cell_type": "code",
   "execution_count": 7,
   "metadata": {},
   "outputs": [
    {
     "name": "stdout",
     "output_type": "stream",
     "text": [
      "(5036, 26)\n",
      "(2159, 26)\n"
     ]
    }
   ],
   "source": [
    "train_data = resample(data2, n_samples = int(data2.shape[0]*0.7) ,replace = False, random_state = 42)\n",
    "test_data =  data2.drop(train_data.index.values, axis = 0)\n",
    "\n",
    "print(train_data.shape)\n",
    "print(test_data.shape)"
   ]
  },
  {
   "cell_type": "code",
   "execution_count": 8,
   "metadata": {},
   "outputs": [
    {
     "data": {
      "text/html": [
       "<div>\n",
       "<style scoped>\n",
       "    .dataframe tbody tr th:only-of-type {\n",
       "        vertical-align: middle;\n",
       "    }\n",
       "\n",
       "    .dataframe tbody tr th {\n",
       "        vertical-align: top;\n",
       "    }\n",
       "\n",
       "    .dataframe thead th {\n",
       "        text-align: right;\n",
       "    }\n",
       "</style>\n",
       "<table border=\"1\" class=\"dataframe\">\n",
       "  <thead>\n",
       "    <tr style=\"text-align: right;\">\n",
       "      <th></th>\n",
       "      <th>MFCCs_ 1</th>\n",
       "      <th>MFCCs_ 2</th>\n",
       "      <th>MFCCs_ 3</th>\n",
       "      <th>MFCCs_ 4</th>\n",
       "      <th>MFCCs_ 5</th>\n",
       "      <th>MFCCs_ 6</th>\n",
       "      <th>MFCCs_ 7</th>\n",
       "      <th>MFCCs_ 8</th>\n",
       "      <th>MFCCs_ 9</th>\n",
       "      <th>MFCCs_10</th>\n",
       "      <th>...</th>\n",
       "      <th>MFCCs_17</th>\n",
       "      <th>MFCCs_18</th>\n",
       "      <th>MFCCs_19</th>\n",
       "      <th>MFCCs_20</th>\n",
       "      <th>MFCCs_21</th>\n",
       "      <th>MFCCs_22</th>\n",
       "      <th>Family</th>\n",
       "      <th>Genus</th>\n",
       "      <th>Species</th>\n",
       "      <th>RecordID</th>\n",
       "    </tr>\n",
       "  </thead>\n",
       "  <tbody>\n",
       "    <tr>\n",
       "      <th>3340</th>\n",
       "      <td>1.0</td>\n",
       "      <td>0.147506</td>\n",
       "      <td>0.014843</td>\n",
       "      <td>0.433466</td>\n",
       "      <td>0.169581</td>\n",
       "      <td>0.053135</td>\n",
       "      <td>-0.152020</td>\n",
       "      <td>-0.102427</td>\n",
       "      <td>0.153061</td>\n",
       "      <td>0.128628</td>\n",
       "      <td>...</td>\n",
       "      <td>0.285756</td>\n",
       "      <td>0.166246</td>\n",
       "      <td>-0.061206</td>\n",
       "      <td>-0.191878</td>\n",
       "      <td>0.003221</td>\n",
       "      <td>0.255371</td>\n",
       "      <td>Leptodactylidae</td>\n",
       "      <td>Adenomera</td>\n",
       "      <td>AdenomeraHylaedactylus</td>\n",
       "      <td>21</td>\n",
       "    </tr>\n",
       "    <tr>\n",
       "      <th>5108</th>\n",
       "      <td>1.0</td>\n",
       "      <td>0.674174</td>\n",
       "      <td>0.767520</td>\n",
       "      <td>0.392177</td>\n",
       "      <td>0.035669</td>\n",
       "      <td>0.181548</td>\n",
       "      <td>-0.013677</td>\n",
       "      <td>0.187262</td>\n",
       "      <td>0.144679</td>\n",
       "      <td>-0.424524</td>\n",
       "      <td>...</td>\n",
       "      <td>-0.157943</td>\n",
       "      <td>-0.048913</td>\n",
       "      <td>-0.016129</td>\n",
       "      <td>0.129200</td>\n",
       "      <td>0.011245</td>\n",
       "      <td>-0.275909</td>\n",
       "      <td>Hylidae</td>\n",
       "      <td>Hypsiboas</td>\n",
       "      <td>HypsiboasCinerascens</td>\n",
       "      <td>36</td>\n",
       "    </tr>\n",
       "    <tr>\n",
       "      <th>6524</th>\n",
       "      <td>1.0</td>\n",
       "      <td>-0.007777</td>\n",
       "      <td>0.363276</td>\n",
       "      <td>0.413224</td>\n",
       "      <td>0.196296</td>\n",
       "      <td>0.222389</td>\n",
       "      <td>0.097128</td>\n",
       "      <td>-0.155608</td>\n",
       "      <td>-0.035013</td>\n",
       "      <td>0.133689</td>\n",
       "      <td>...</td>\n",
       "      <td>0.125169</td>\n",
       "      <td>0.044882</td>\n",
       "      <td>-0.013309</td>\n",
       "      <td>-0.026086</td>\n",
       "      <td>-0.088825</td>\n",
       "      <td>-0.018968</td>\n",
       "      <td>Hylidae</td>\n",
       "      <td>Hypsiboas</td>\n",
       "      <td>HypsiboasCordobae</td>\n",
       "      <td>43</td>\n",
       "    </tr>\n",
       "    <tr>\n",
       "      <th>3649</th>\n",
       "      <td>1.0</td>\n",
       "      <td>0.429359</td>\n",
       "      <td>0.297881</td>\n",
       "      <td>0.609120</td>\n",
       "      <td>0.263991</td>\n",
       "      <td>-0.030414</td>\n",
       "      <td>-0.160778</td>\n",
       "      <td>0.076217</td>\n",
       "      <td>0.285909</td>\n",
       "      <td>0.052029</td>\n",
       "      <td>...</td>\n",
       "      <td>0.230330</td>\n",
       "      <td>0.069015</td>\n",
       "      <td>-0.101196</td>\n",
       "      <td>-0.152351</td>\n",
       "      <td>0.039065</td>\n",
       "      <td>0.233823</td>\n",
       "      <td>Leptodactylidae</td>\n",
       "      <td>Adenomera</td>\n",
       "      <td>AdenomeraHylaedactylus</td>\n",
       "      <td>22</td>\n",
       "    </tr>\n",
       "    <tr>\n",
       "      <th>1617</th>\n",
       "      <td>1.0</td>\n",
       "      <td>0.190599</td>\n",
       "      <td>0.062234</td>\n",
       "      <td>0.617262</td>\n",
       "      <td>0.208825</td>\n",
       "      <td>0.027108</td>\n",
       "      <td>-0.214441</td>\n",
       "      <td>0.009654</td>\n",
       "      <td>0.299053</td>\n",
       "      <td>0.039013</td>\n",
       "      <td>...</td>\n",
       "      <td>0.321598</td>\n",
       "      <td>0.128742</td>\n",
       "      <td>-0.152977</td>\n",
       "      <td>-0.223482</td>\n",
       "      <td>0.016131</td>\n",
       "      <td>0.250754</td>\n",
       "      <td>Leptodactylidae</td>\n",
       "      <td>Adenomera</td>\n",
       "      <td>AdenomeraHylaedactylus</td>\n",
       "      <td>15</td>\n",
       "    </tr>\n",
       "  </tbody>\n",
       "</table>\n",
       "<p>5 rows × 26 columns</p>\n",
       "</div>"
      ],
      "text/plain": [
       "      MFCCs_ 1  MFCCs_ 2  MFCCs_ 3  MFCCs_ 4  MFCCs_ 5  MFCCs_ 6  MFCCs_ 7  \\\n",
       "3340       1.0  0.147506  0.014843  0.433466  0.169581  0.053135 -0.152020   \n",
       "5108       1.0  0.674174  0.767520  0.392177  0.035669  0.181548 -0.013677   \n",
       "6524       1.0 -0.007777  0.363276  0.413224  0.196296  0.222389  0.097128   \n",
       "3649       1.0  0.429359  0.297881  0.609120  0.263991 -0.030414 -0.160778   \n",
       "1617       1.0  0.190599  0.062234  0.617262  0.208825  0.027108 -0.214441   \n",
       "\n",
       "      MFCCs_ 8  MFCCs_ 9  MFCCs_10    ...     MFCCs_17  MFCCs_18  MFCCs_19  \\\n",
       "3340 -0.102427  0.153061  0.128628    ...     0.285756  0.166246 -0.061206   \n",
       "5108  0.187262  0.144679 -0.424524    ...    -0.157943 -0.048913 -0.016129   \n",
       "6524 -0.155608 -0.035013  0.133689    ...     0.125169  0.044882 -0.013309   \n",
       "3649  0.076217  0.285909  0.052029    ...     0.230330  0.069015 -0.101196   \n",
       "1617  0.009654  0.299053  0.039013    ...     0.321598  0.128742 -0.152977   \n",
       "\n",
       "      MFCCs_20  MFCCs_21  MFCCs_22           Family      Genus  \\\n",
       "3340 -0.191878  0.003221  0.255371  Leptodactylidae  Adenomera   \n",
       "5108  0.129200  0.011245 -0.275909          Hylidae  Hypsiboas   \n",
       "6524 -0.026086 -0.088825 -0.018968          Hylidae  Hypsiboas   \n",
       "3649 -0.152351  0.039065  0.233823  Leptodactylidae  Adenomera   \n",
       "1617 -0.223482  0.016131  0.250754  Leptodactylidae  Adenomera   \n",
       "\n",
       "                     Species  RecordID  \n",
       "3340  AdenomeraHylaedactylus        21  \n",
       "5108    HypsiboasCinerascens        36  \n",
       "6524       HypsiboasCordobae        43  \n",
       "3649  AdenomeraHylaedactylus        22  \n",
       "1617  AdenomeraHylaedactylus        15  \n",
       "\n",
       "[5 rows x 26 columns]"
      ]
     },
     "execution_count": 8,
     "metadata": {},
     "output_type": "execute_result"
    }
   ],
   "source": [
    "train_data.head()"
   ]
  },
  {
   "cell_type": "code",
   "execution_count": 15,
   "metadata": {},
   "outputs": [],
   "source": [
    "X_train = train_data.iloc[:,0:-4]\n",
    "X_test = test_data.iloc[:,0:-4]\n",
    "y_train = train_data.iloc[:,-4:-1]\n",
    "y_test = test_data.iloc[:,-4:-1]"
   ]
  },
  {
   "cell_type": "markdown",
   "metadata": {},
   "source": [
    "### (b) Train a classifier for each label.\n"
   ]
  },
  {
   "cell_type": "markdown",
   "metadata": {},
   "source": [
    "### i. Exact match and hamming score/ loss methods for evaluating multilabel classification"
   ]
  },
  {
   "cell_type": "markdown",
   "metadata": {},
   "source": [
    "**Hamming loss**: the fraction of the wrong labels to the total number of labels,the optimal value is zero.\n",
    "\n",
    "**Exact match (also called Subset accuracy)**: is the most strict metric, indicating the percentage of samples that have all their labels classified correctly.\n",
    "\n",
    "**Usage**: we can use `sklearn.metrics.hamming_loss` and `sklearn.metrics.accuracy_score`"
   ]
  },
  {
   "cell_type": "markdown",
   "metadata": {},
   "source": [
    "### ii. Train a SVM for each of the labels"
   ]
  },
  {
   "cell_type": "code",
   "execution_count": 16,
   "metadata": {},
   "outputs": [],
   "source": [
    "def find_param_bound(X_train,y_train,gamma_bound1,gamma_bound2,C_bound1,C_bound2,threshold = 0.9, verbose = False):\n",
    "    \n",
    "    if(C_bound1 > C_bound2):\n",
    "        C_bound = C_bound2+1\n",
    "    else:\n",
    "        C_bound = C_bound2-1\n",
    "    \n",
    "    gamma_bound = gamma_bound2\n",
    "    \n",
    "    for gamma in np.linspace(gamma_bound1,gamma_bound2,5,endpoint = True):\n",
    "        for C_quant in np.linspace(C_bound1,C_bound2,abs(C_bound1-C_bound2)+1,endpoint = True):\n",
    "            C = 10**C_quant\n",
    "            svm = SVC(kernel=\"rbf\",random_state = 0, C = C, gamma = gamma)\n",
    "            svm.fit(X_train,y_train)\n",
    "            y_pred = svm.predict(X_train)\n",
    "            accuracy = accuracy_score(y_train,y_pred)\n",
    "            \n",
    "            if(accuracy > threshold):\n",
    "                if(verbose == True):\n",
    "                    print('find C')\n",
    "                C_bound = C_quant\n",
    "                gamma_bound = gamma\n",
    "                return gamma_bound,C_bound\n",
    "        \n",
    "    return gamma_bound,C_bound"
   ]
  },
  {
   "cell_type": "code",
   "execution_count": 26,
   "metadata": {},
   "outputs": [],
   "source": [
    "from sklearn import svm\n",
    "from sklearn.metrics import accuracy_score\n",
    "from sklearn.svm import SVC\n",
    "\n",
    "def handling_svm(X_train, y_train,X_test, C_low, C_upper, gamma_low, gamma_upper):\n",
    "     \n",
    "    # Create my estimator and prepare the parameter grid dictionary\n",
    "    params_dict = {\"C\": np.logspace(C_low, C_upper, 5), \"gamma\": np.linspace(gamma_low,gamma_upper, 5)}\n",
    "    svm = SVC(kernel=\"rbf\",random_state = 0)\n",
    "\n",
    "    # Fit the grid search\n",
    "    search = GridSearchCV(estimator=svm, param_grid=params_dict, cv = 10,refit = True,scoring = 'accuracy')\n",
    "    search.fit(X_train, y_train)\n",
    "    svm = search.best_estimator_\n",
    "\n",
    "    svm.fit(X_train,y_train)\n",
    "    print('best score:', search.best_score_)\n",
    "    print('best params:',search.best_params_ )\n",
    "    y_pred = svm.predict(X_test)\n",
    "    \n",
    "    return y_pred, svm"
   ]
  },
  {
   "cell_type": "code",
   "execution_count": 27,
   "metadata": {},
   "outputs": [
    {
     "name": "stdout",
     "output_type": "stream",
     "text": [
      "0.001 12.0 -1.0 3.0\n",
      "best score: 0.9928514694201748\n",
      "best params: {'C': 10.0, 'gamma': 3.00075}\n",
      "finished round 0, time 160.310310 s\n",
      "0.001 12.0 -1.0 3.0\n",
      "best score: 0.9912629070691025\n",
      "best params: {'C': 10.0, 'gamma': 3.00075}\n",
      "finished round 1, time 200.057313 s\n",
      "0.001 12.0 -1.0 3.0\n",
      "best score: 0.9906671961874504\n",
      "best params: {'C': 10.0, 'gamma': 3.00075}\n",
      "finished round 2, time 203.916199 s\n"
     ]
    }
   ],
   "source": [
    "results = []\n",
    "y_pred = pd.DataFrame(np.zeros((y_test.shape[0],y_test.shape[1])))\n",
    "for i in range(0,3):\n",
    "    start = time.time()\n",
    "    # parameters space\n",
    "    gamma_low1,C_low1 = find_param_bound(X_train,y_train.iloc[:,i],0.001,2,-3,1)\n",
    "    gamma_upper1,C_low2 = find_param_bound(X_train,y_train.iloc[:,i],12,6,-3,1)\n",
    "    gamma_low2,C_upper1 = find_param_bound(X_train,y_train.iloc[:,i],0.001,2,3,0)\n",
    "    gamma_upper2,C_upper2 = find_param_bound(X_train,y_train.iloc[:,i],12,6,3,0)\n",
    "    \n",
    "    C_low = min(C_low1,C_low2)\n",
    "    C_upper = max(C_upper1,C_upper2)\n",
    "    gamma_low = min(gamma_low1,gamma_low2)\n",
    "    gamma_upper = max(gamma_upper1,gamma_upper2)\n",
    "    \n",
    "    print(gamma_low,gamma_upper,C_low,C_upper)\n",
    "\n",
    "    y_pred_temp,svm = handling_svm(X_train,y_train.iloc[:,i],X_test,C_low,C_upper,gamma_low,gamma_upper)\n",
    "    results.append(svm)\n",
    "    y_pred.iloc[:,i] = y_pred_temp\n",
    "    print('finished round %d, time %f s'%(i, time.time()-start))"
   ]
  },
  {
   "cell_type": "code",
   "execution_count": 46,
   "metadata": {},
   "outputs": [
    {
     "name": "stdout",
     "output_type": "stream",
     "text": [
      "result:\n",
      "hamming loss: 0.009572332870155936\n",
      "Exact match error: 0.00555812876331635\n"
     ]
    }
   ],
   "source": [
    "from sklearn.metrics import hamming_loss\n",
    "from sklearn.metrics import accuracy_score\n",
    "\n",
    "print('result:')\n",
    "#print('Exact match accuracy:',accuracy_score(y_test,y_pred))\n",
    "hamming_loss = np.sum(np.not_equal(y_test.values, y_pred.values))/float(y_test.values.size)\n",
    "print('hamming loss:',hamming_loss)\n",
    "exact_match = np.sum(np.all(np.not_equal(y_test.values, y_pred.values),axis = 1))/float(y_test.shape[0])\n",
    "print('Exact match error:',exact_match)"
   ]
  },
  {
   "cell_type": "markdown",
   "metadata": {},
   "source": [
    "### iii.  Train L1-penalized SVMs."
   ]
  },
  {
   "cell_type": "code",
   "execution_count": 52,
   "metadata": {},
   "outputs": [],
   "source": [
    "from sklearn.preprocessing import StandardScaler\n",
    "scaler = StandardScaler()\n",
    "X_train_std = scaler.fit_transform(X_train)\n",
    "X_test_std = scaler.fit_transform(X_test)\n",
    "y_train_std = y_train\n",
    "y_test_std = y_test"
   ]
  },
  {
   "cell_type": "code",
   "execution_count": 65,
   "metadata": {},
   "outputs": [],
   "source": [
    "def find_param_bound_l1(X_train,y_train,C_bound1,C_bound2,threshold = 0.8, verbose = False):\n",
    "    \n",
    "    if(C_bound1 > C_bound2):\n",
    "        C_bound = C_bound2+1\n",
    "    else:\n",
    "        C_bound = C_bound2-1\n",
    "    \n",
    "    \n",
    "    for C_quant in np.linspace(C_bound1,C_bound2,abs(C_bound1-C_bound2)+1,endpoint = True):\n",
    "        C = 10**C_quant\n",
    "        svm = LinearSVC(random_state = 0, C = C, penalty = 'l1',dual = False)\n",
    "        svm.fit(X_train,y_train)\n",
    "        y_pred = svm.predict(X_train)\n",
    "        accuracy = accuracy_score(y_train,y_pred)\n",
    "            \n",
    "        if(accuracy > threshold):\n",
    "            if(verbose == True):\n",
    "                print('find C')\n",
    "            C_bound = C_quant\n",
    "            return C_bound\n",
    "        \n",
    "    return C_bound"
   ]
  },
  {
   "cell_type": "code",
   "execution_count": 299,
   "metadata": {},
   "outputs": [],
   "source": [
    "def handling_svm_l1(X_train, y_train,X_test, C_low, C_upper):\n",
    "     \n",
    "    # Create my estimator and prepare the parameter grid dictionary\n",
    "    params_dict = {\"C\": np.logspace(C_low,C_upper,10)}\n",
    "    \n",
    "    svm = LinearSVC(random_state = 0,penalty = 'l1',dual = False)\n",
    "\n",
    "    # Fit the grid search\n",
    "    search = GridSearchCV(estimator=svm, param_grid=params_dict, cv = 10,refit = True,scoring = 'accuracy')\n",
    "    search.fit(X_train, y_train)\n",
    "    svm = search.best_estimator_\n",
    "\n",
    "    svm.fit(X_train,y_train)\n",
    "    print('best score:', search.best_score_)\n",
    "    print('best params:',search.best_params_ )\n",
    "    y_pred = svm.predict(X_test)\n",
    "    \n",
    "    return y_pred, svm"
   ]
  },
  {
   "cell_type": "code",
   "execution_count": 70,
   "metadata": {},
   "outputs": [
    {
     "name": "stdout",
     "output_type": "stream",
     "text": [
      "-3.0 3.0\n",
      "best score: 0.9330818109610802\n",
      "best params: {'C': 10.0}\n",
      "finished round 0, time 167.026087 s\n",
      "-3.0 3.0\n",
      "best score: 0.9507545671167593\n",
      "best params: {'C': 2.154434690031882}\n",
      "finished round 1, time 265.972917 s\n",
      "-2.0 3.0\n",
      "best score: 0.9573073868149324\n",
      "best params: {'C': 21.544346900318846}\n",
      "finished round 2, time 326.772975 s\n"
     ]
    }
   ],
   "source": [
    "results_l1 = []\n",
    "y_pred_std = pd.DataFrame(np.zeros((y_test_std.shape[0],y_test_std.shape[1])))\n",
    "for i in range(0,3):\n",
    "    start = time.time()\n",
    "    # parameters space\n",
    "    C_low = find_param_bound_l1(X_train_std,y_train_std.iloc[:,i],-3,1)\n",
    "    C_upper = find_param_bound_l1(X_train_std,y_train_std.iloc[:,i],3,0)\n",
    "    \n",
    "    print(C_low,C_upper)\n",
    "    \n",
    "    y_pred_std.iloc[:,i],svm = handling_svm_l1(X_train_std,y_train_std.iloc[:,i],X_test_std,C_low,C_upper)\n",
    "    results_l1.append(svm)\n",
    "    print('finished round %d, time %f s'%(i, time.time()-start))"
   ]
  },
  {
   "cell_type": "code",
   "execution_count": 71,
   "metadata": {},
   "outputs": [
    {
     "name": "stdout",
     "output_type": "stream",
     "text": [
      "result l1-lineer kernel:\n",
      "hamming loss: 0.04878801914466574\n",
      "Exact match error: 0.020842982862436313\n"
     ]
    }
   ],
   "source": [
    "print('result l1-lineer kernel:')\n",
    "#print('Exact match accuracy:',accuracy_score(y_test,y_pred))\n",
    "hamming_loss_l1 = np.sum(np.not_equal(y_test_std.values, y_pred_std.values))/float(y_test_std.values.size)\n",
    "print('hamming loss:',hamming_loss_l1)\n",
    "exact_match_l1 = np.sum(np.all(np.not_equal(y_test_std.values, y_pred_std.values),axis = 1))/float(y_test_std.shape[0])\n",
    "print('Exact match error:',exact_match_l1)"
   ]
  },
  {
   "cell_type": "markdown",
   "metadata": {},
   "source": [
    "### iv. Remedy class imbalance."
   ]
  },
  {
   "cell_type": "code",
   "execution_count": 302,
   "metadata": {},
   "outputs": [],
   "source": [
    "def find_param_bound_res(X_train,y_train,C_bound1,C_bound2,threshold = 0.8, verbose = False):\n",
    "    \n",
    "    if(C_bound1 > C_bound2):\n",
    "        C_bound = C_bound2+1\n",
    "    else:\n",
    "        C_bound = C_bound2-1\n",
    "    \n",
    "    \n",
    "    for C_quant in np.linspace(C_bound1,C_bound2,abs(C_bound1-C_bound2)+1,endpoint = True):\n",
    "        C = 10**C_quant\n",
    "        svm = LinearSVC(random_state = 0, C = C, penalty = 'l1',dual = False,class_weight= 'balanced')\n",
    "        svm.fit(X_train,y_train)\n",
    "        y_pred = svm.predict(X_train)\n",
    "        accuracy = accuracy_score(y_train,y_pred)\n",
    "            \n",
    "        if(accuracy > threshold):\n",
    "            if(verbose == True):\n",
    "                print('find C')\n",
    "            C_bound = C_quant\n",
    "            return C_bound\n",
    "        \n",
    "    return C_bound"
   ]
  },
  {
   "cell_type": "code",
   "execution_count": 303,
   "metadata": {},
   "outputs": [],
   "source": [
    "def handling_svm_res(X_train, y_train,X_test, C_low, C_upper):\n",
    "     \n",
    "    # Create my estimator and prepare the parameter grid dictionary\n",
    "    params_dict = {\"C\": np.logspace(C_low,C_upper,5)}\n",
    "    \n",
    "    svm = LinearSVC(random_state = 0,penalty = 'l1',dual = False,class_weight ='balanced')\n",
    "\n",
    "    # Fit the grid search\n",
    "    search = GridSearchCV(estimator=svm, param_grid=params_dict, cv = 10,refit = True,scoring = 'accuracy')\n",
    "    search.fit(X_train, y_train)\n",
    "    svm = search.best_estimator_\n",
    "\n",
    "    svm.fit(X_train,y_train)\n",
    "    print('best score:', search.best_score_)\n",
    "    print('best params:',search.best_params_ )\n",
    "    y_pred = svm.predict(X_test)\n",
    "    \n",
    "    return y_pred, svm"
   ]
  },
  {
   "cell_type": "code",
   "execution_count": null,
   "metadata": {},
   "outputs": [],
   "source": [
    "results_res = []\n",
    "y_pred_res = pd.DataFrame(np.zeros((y_test_std.shape[0],y_test_std.shape[1])))\n",
    "for i in range(0,3):\n",
    "    start = time.time()\n",
    "    # parameters space\n",
    "    X_res_train, y_res_train = X_train_std, y_train_std.iloc[:,i]\n",
    "    X_res_test, y_res_test = X_test_std, y_test_std.iloc[:,i]\n",
    "    C_low = find_param_bound_res(X_res_train,y_res_train,-3,1)\n",
    "    C_upper = find_param_bound_res(X_res_train,y_res_train,3,0)\n",
    "    \n",
    "    print(C_low,C_upper)\n",
    "    \n",
    "    y_pred_res_item,svm = handling_svm_res(X_res_train,y_res_train,X_res_test,C_low,C_upper)\n",
    "    results_res.append(svm)\n",
    "    y_pred_res.iloc[:,i] = y_pred_res_item\n",
    "    print('finished round %d, time %f s'%(i, time.time()-start))"
   ]
  },
  {
   "cell_type": "code",
   "execution_count": null,
   "metadata": {},
   "outputs": [],
   "source": [
    "print('result resample:')\n",
    "#print('Exact match accuracy:',accuracy_score(y_test,y_pred))\n",
    "hamming_loss_res = np.sum(np.not_equal(y_pred_res.values, y_std_res.values))/float(y_pred_res.values.size)\n",
    "print('hamming loss res:',hamming_loss_res)\n",
    "exact_match_smote = np.sum(np.all(np.not_equal(y_pred_res.values, y_std_res.values),axis = 1))/float(y_pred_res.shape[0])\n",
    "print('Exact match error res:',exact_match_res)"
   ]
  }
 ],
 "metadata": {
  "kernelspec": {
   "display_name": "Python 3",
   "language": "python",
   "name": "python3"
  },
  "language_info": {
   "codemirror_mode": {
    "name": "ipython",
    "version": 3
   },
   "file_extension": ".py",
   "mimetype": "text/x-python",
   "name": "python",
   "nbconvert_exporter": "python",
   "pygments_lexer": "ipython3",
   "version": "3.6.5"
  }
 },
 "nbformat": 4,
 "nbformat_minor": 2
}
