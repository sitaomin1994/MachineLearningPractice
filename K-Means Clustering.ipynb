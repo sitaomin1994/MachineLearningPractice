{
 "cells": [
  {
   "cell_type": "markdown",
   "metadata": {},
   "source": [
    "# K-Means Clustering on a Multi-Class and Multi-Label Data Set Monte-Carlo"
   ]
  },
  {
   "cell_type": "markdown",
   "metadata": {},
   "source": [
    "### Sitao Min"
   ]
  },
  {
   "cell_type": "markdown",
   "metadata": {},
   "source": [
    "### Monte Carlo Simulation of K-Means"
   ]
  },
  {
   "cell_type": "code",
   "execution_count": 263,
   "metadata": {},
   "outputs": [],
   "source": [
    "from sklearn import cluster\n",
    "from sklearn import metrics\n",
    "from sklearn.metrics import pairwise_distances\n",
    "\n",
    "def train_kmeans(X_train_kmeans,y_train_family,y_train_genus,y_train_species,i):\n",
    "    results = []\n",
    "    k_list = [2,3,4,5,6,7,8,9,10,20,50]\n",
    "    y_train_kmeans =  X_train_kmeans = data2.iloc[:,-4]\n",
    "    X_train_kmeans = data2.iloc[:,0:-4]\n",
    "    for k in k_list:\n",
    "        kmeans_model = cluster.KMeans(init = 'random',n_clusters=k, random_state=i).fit(X_train_kmeans)\n",
    "        labels = kmeans_model.labels_\n",
    "        CH_index = metrics.calinski_harabaz_score(X_train_kmeans, labels)\n",
    "        results.append(CH_index)\n",
    "\n",
    "    for index,ele in enumerate(results):\n",
    "        if ele == max(results):\n",
    "            best_k = k_list[index]\n",
    "    kmeans_model = cluster.KMeans(init = 'random',n_clusters=best_k, random_state=i).fit(X_train_kmeans)\n",
    "    labels = kmeans_model.labels_\n",
    "    CH_index = metrics.calinski_harabaz_score(X_train_kmeans, labels)\n",
    "    print('round %d best k: %d CH_index:%f'%(i,best_k,CH_index))\n",
    "    \n",
    "    y_pred_family = determine_majority(y_train_family,labels,best_k)\n",
    "    y_pred_genus = determine_majority(y_train_genus,labels,best_k)\n",
    "    y_pred_species = determine_majority(y_train_species,labels,best_k)\n",
    "    y_train3 = pd.DataFrame(np.zeros((len(labels),3)))\n",
    "    y_pred3 = pd.DataFrame(np.zeros((len(labels),3)))\n",
    "    y_train3.iloc[:,0] = y_train_family\n",
    "    y_train3.iloc[:,1] = y_train_genus\n",
    "    y_train3.iloc[:,2] = y_train_species\n",
    "    y_pred3.iloc[:,0] = y_pred_family\n",
    "    y_pred3.iloc[:,1] = y_pred_genus\n",
    "    y_pred3.iloc[:,2] = y_pred_species\n",
    "    hamming_loss_kmeans = np.sum(np.not_equal(y_train3.values, y_pred3.values))/float(y_train3.values.size)\n",
    "    print('hamming_loss_kmeans:',hamming_loss_kmeans)\n",
    "    \n",
    "    return hamming_loss_kmeans"
   ]
  },
  {
   "cell_type": "code",
   "execution_count": 264,
   "metadata": {},
   "outputs": [],
   "source": [
    "X_train_kmeans = data2.iloc[:,0:-4]\n",
    "y_train_family =  data2.iloc[:,-4]\n",
    "y_train_genus =  data2.iloc[:,-3]\n",
    "y_train_species =  data2.iloc[:,-2]"
   ]
  },
  {
   "cell_type": "code",
   "execution_count": 266,
   "metadata": {
    "scrolled": true
   },
   "outputs": [
    {
     "name": "stdout",
     "output_type": "stream",
     "text": [
      "round 0 best k: 2 CH_index:3680.741349\n",
      "hamming_loss_kmeans: 0.2985406532314107\n",
      "round 1 best k: 2 CH_index:3680.741349\n",
      "hamming_loss_kmeans: 0.2985406532314107\n",
      "round 2 best k: 2 CH_index:3680.741349\n",
      "hamming_loss_kmeans: 0.2985406532314107\n",
      "round 3 best k: 2 CH_index:3680.741349\n",
      "hamming_loss_kmeans: 0.2985406532314107\n",
      "round 4 best k: 2 CH_index:3680.741349\n",
      "hamming_loss_kmeans: 0.2985406532314107\n",
      "round 5 best k: 2 CH_index:3680.741349\n",
      "hamming_loss_kmeans: 0.2985406532314107\n",
      "round 6 best k: 2 CH_index:3680.741349\n",
      "hamming_loss_kmeans: 0.2985406532314107\n",
      "round 7 best k: 2 CH_index:3680.741349\n",
      "hamming_loss_kmeans: 0.2985406532314107\n",
      "round 8 best k: 2 CH_index:3680.741349\n",
      "hamming_loss_kmeans: 0.2985406532314107\n",
      "round 9 best k: 2 CH_index:3680.741349\n",
      "hamming_loss_kmeans: 0.2985406532314107\n",
      "round 10 best k: 2 CH_index:3680.741349\n",
      "hamming_loss_kmeans: 0.2985406532314107\n",
      "round 11 best k: 2 CH_index:3680.741349\n",
      "hamming_loss_kmeans: 0.2985406532314107\n",
      "round 12 best k: 2 CH_index:3680.741349\n",
      "hamming_loss_kmeans: 0.2985406532314107\n",
      "round 13 best k: 2 CH_index:3680.741349\n",
      "hamming_loss_kmeans: 0.2985406532314107\n",
      "round 14 best k: 2 CH_index:3680.741349\n",
      "hamming_loss_kmeans: 0.2985406532314107\n",
      "round 15 best k: 2 CH_index:3680.741349\n",
      "hamming_loss_kmeans: 0.2985406532314107\n",
      "round 16 best k: 2 CH_index:3680.741349\n",
      "hamming_loss_kmeans: 0.2985406532314107\n",
      "round 17 best k: 2 CH_index:3680.741349\n",
      "hamming_loss_kmeans: 0.2985406532314107\n",
      "round 18 best k: 2 CH_index:3680.741349\n",
      "hamming_loss_kmeans: 0.2985406532314107\n",
      "round 19 best k: 2 CH_index:3680.741349\n",
      "hamming_loss_kmeans: 0.2985406532314107\n",
      "round 20 best k: 2 CH_index:3680.741349\n",
      "hamming_loss_kmeans: 0.2985406532314107\n",
      "round 21 best k: 2 CH_index:3680.741349\n",
      "hamming_loss_kmeans: 0.2985406532314107\n",
      "round 22 best k: 2 CH_index:3680.741349\n",
      "hamming_loss_kmeans: 0.2985406532314107\n",
      "round 23 best k: 2 CH_index:3680.741349\n",
      "hamming_loss_kmeans: 0.2985406532314107\n",
      "round 24 best k: 2 CH_index:3680.741349\n",
      "hamming_loss_kmeans: 0.2985406532314107\n",
      "round 25 best k: 2 CH_index:3680.741349\n",
      "hamming_loss_kmeans: 0.2985406532314107\n",
      "round 26 best k: 2 CH_index:3680.741349\n",
      "hamming_loss_kmeans: 0.2985406532314107\n",
      "round 27 best k: 2 CH_index:3680.741349\n",
      "hamming_loss_kmeans: 0.2985406532314107\n",
      "round 28 best k: 2 CH_index:3680.741349\n",
      "hamming_loss_kmeans: 0.2985406532314107\n",
      "round 29 best k: 2 CH_index:3680.741349\n",
      "hamming_loss_kmeans: 0.2985406532314107\n",
      "round 30 best k: 2 CH_index:3680.741349\n",
      "hamming_loss_kmeans: 0.2985406532314107\n",
      "round 31 best k: 2 CH_index:3680.741349\n",
      "hamming_loss_kmeans: 0.2985406532314107\n",
      "round 32 best k: 2 CH_index:3680.741349\n",
      "hamming_loss_kmeans: 0.2985406532314107\n",
      "round 33 best k: 2 CH_index:3680.741349\n",
      "hamming_loss_kmeans: 0.2985406532314107\n",
      "round 34 best k: 2 CH_index:3680.741349\n",
      "hamming_loss_kmeans: 0.2985406532314107\n",
      "round 35 best k: 2 CH_index:3680.741349\n",
      "hamming_loss_kmeans: 0.2985406532314107\n",
      "round 36 best k: 2 CH_index:3680.741349\n",
      "hamming_loss_kmeans: 0.2985406532314107\n",
      "round 37 best k: 2 CH_index:3680.741349\n",
      "hamming_loss_kmeans: 0.2985406532314107\n",
      "round 38 best k: 2 CH_index:3680.741349\n",
      "hamming_loss_kmeans: 0.2985406532314107\n",
      "round 39 best k: 2 CH_index:3680.741349\n",
      "hamming_loss_kmeans: 0.2985406532314107\n",
      "round 40 best k: 2 CH_index:3680.741349\n",
      "hamming_loss_kmeans: 0.2985406532314107\n",
      "round 41 best k: 2 CH_index:3680.741349\n",
      "hamming_loss_kmeans: 0.2985406532314107\n",
      "round 42 best k: 2 CH_index:3680.741349\n",
      "hamming_loss_kmeans: 0.2985406532314107\n",
      "round 43 best k: 2 CH_index:3680.741349\n",
      "hamming_loss_kmeans: 0.2985406532314107\n",
      "round 44 best k: 2 CH_index:3680.741349\n",
      "hamming_loss_kmeans: 0.2985406532314107\n",
      "round 45 best k: 2 CH_index:3680.741349\n",
      "hamming_loss_kmeans: 0.2985406532314107\n",
      "round 46 best k: 2 CH_index:3680.741349\n",
      "hamming_loss_kmeans: 0.2985406532314107\n",
      "round 47 best k: 2 CH_index:3680.741349\n",
      "hamming_loss_kmeans: 0.2985406532314107\n",
      "round 48 best k: 2 CH_index:3680.741349\n",
      "hamming_loss_kmeans: 0.2985406532314107\n",
      "round 49 best k: 2 CH_index:3680.741349\n",
      "hamming_loss_kmeans: 0.2985406532314107\n",
      "0    0.298541\n",
      "dtype: float64 0    5.607473e-17\n",
      "dtype: float64\n"
     ]
    }
   ],
   "source": [
    "hamming_list = pd.DataFrame(np.ones((50,1)))\n",
    "for i in range(0,50):\n",
    "    hamming_ls = train_kmeans(X_train_kmeans,y_train_family,y_train_genus,y_train_species,i)\n",
    "    hamming_list.iloc[i,0] = hamming_ls\n",
    "\n",
    "print(hamming_list.mean(),hamming_list.std())"
   ]
  },
  {
   "cell_type": "code",
   "execution_count": 267,
   "metadata": {},
   "outputs": [
    {
     "name": "stdout",
     "output_type": "stream",
     "text": [
      "hamming distance mean: 0    0.298541\n",
      "dtype: float64\n",
      "hamming dsitance std: 0    5.607473e-17\n",
      "dtype: float64\n"
     ]
    }
   ],
   "source": [
    "print('hamming distance mean:', hamming_list.mean())\n",
    "print('hamming dsitance std:',hamming_list.std())"
   ]
  },
  {
   "cell_type": "markdown",
   "metadata": {},
   "source": [
    "### (a) Use k-means clustering on the whole Anuran Calls (MFCCs) Data Set (do not split the data into train and test, as we are not performing supervised learning in this exercise). Choose k automatically based on CH Index"
   ]
  },
  {
   "cell_type": "code",
   "execution_count": 198,
   "metadata": {},
   "outputs": [
    {
     "name": "stdout",
     "output_type": "stream",
     "text": [
      "6.4738240242004395\n",
      "best k: 2\n",
      "CH index: 3680.7413494630937\n"
     ]
    }
   ],
   "source": [
    "from sklearn import cluster\n",
    "from sklearn import metrics\n",
    "from sklearn.metrics import pairwise_distances\n",
    "\n",
    "\n",
    "results = []\n",
    "start = time.time()\n",
    "k_list = [2,3,4,5,6,7,8,9,10,20,50]\n",
    "for k in k_list:\n",
    "    kmeans_model = cluster.KMeans(n_clusters=k, random_state=0).fit(X_train_kmeans)\n",
    "    labels = kmeans_model.labels_\n",
    "    CH_index = metrics.calinski_harabaz_score(X_train_kmeans, labels)\n",
    "    results.append(CH_index)\n",
    "\n",
    "print(time.time()-start)\n",
    "\n",
    "for index,ele in enumerate(results):\n",
    "    if ele == max(results):\n",
    "        best_k = k_list[index]\n",
    "print('best k:', best_k) \n",
    "kmeans_model = cluster.KMeans(n_clusters=best_k, random_state=0).fit(X_train_kmeans)\n",
    "labels = kmeans_model.labels_\n",
    "CH_index = metrics.calinski_harabaz_score(X_train_kmeans, labels)\n",
    "print('CH index:',CH_index)"
   ]
  },
  {
   "cell_type": "code",
   "execution_count": 199,
   "metadata": {},
   "outputs": [
    {
     "name": "stdout",
     "output_type": "stream",
     "text": [
      "best k: 2\n"
     ]
    },
    {
     "data": {
      "image/png": "[encoded data removed]",
      "text/plain": [
       "<Figure size 432x288 with 1 Axes>"
      ]
     },
     "metadata": {},
     "output_type": "display_data"
    }
   ],
   "source": [
    "for index,ele in enumerate(results):\n",
    "    if ele == max(results):\n",
    "        best_k = k_list[index]\n",
    "print('best k:', best_k)  \n",
    "k_list = [2,3,4,5,6,7,8,9,10,20,50]\n",
    "plt.plot(k_list, results)\n",
    "plt.ylabel('CH index')\n",
    "plt.xlabel('k')\n",
    "plt.show()"
   ]
  },
  {
   "cell_type": "markdown",
   "metadata": {},
   "source": [
    "### (b) Determine the majority by reading the true labels."
   ]
  },
  {
   "cell_type": "code",
   "execution_count": 200,
   "metadata": {},
   "outputs": [],
   "source": [
    "def determine_majority(y_train_label,labels,k):\n",
    "    family_cluster = pd.DataFrame(np.ones((y_train_kmeans.shape[0],3)),columns = ['col1','col2','col3'])\n",
    "    family_cluster.iloc[:,0] = y_train_label\n",
    "    family_cluster.iloc[:,1] = labels\n",
    "    for i in range(0,k):\n",
    "        cluster = family_cluster[family_cluster['col2'] == i]\n",
    "        majority = cluster['col1'].mode()[0]\n",
    "        cluster_value = family_cluster[family_cluster['col2'] == i]\n",
    "        family_cluster.loc[cluster_value.index.values,'col3'] = majority\n",
    "    y_family = family_cluster['col3']\n",
    "    return y_family"
   ]
  },
  {
   "cell_type": "code",
   "execution_count": 202,
   "metadata": {},
   "outputs": [],
   "source": [
    "y_train_family =  data2.iloc[:,-4]\n",
    "y_train_genus =  data2.iloc[:,-3]\n",
    "y_train_species =  data2.iloc[:,-2]\n",
    "y_pred_family = determine_majority(y_train_family,labels,best_k)\n",
    "y_pred_genus = determine_majority(y_train_genus,labels,best_k)\n",
    "y_pred_species = determine_majority(y_train_species,labels,best_k)"
   ]
  },
  {
   "cell_type": "code",
   "execution_count": 203,
   "metadata": {
    "scrolled": true
   },
   "outputs": [
    {
     "data": {
      "text/plain": [
       "0               Hylidae\n",
       "1               Hylidae\n",
       "2               Hylidae\n",
       "3               Hylidae\n",
       "4               Hylidae\n",
       "5               Hylidae\n",
       "6               Hylidae\n",
       "7               Hylidae\n",
       "8               Hylidae\n",
       "9               Hylidae\n",
       "10              Hylidae\n",
       "11              Hylidae\n",
       "12              Hylidae\n",
       "13              Hylidae\n",
       "14              Hylidae\n",
       "15              Hylidae\n",
       "16              Hylidae\n",
       "17              Hylidae\n",
       "18              Hylidae\n",
       "19              Hylidae\n",
       "20              Hylidae\n",
       "21              Hylidae\n",
       "22              Hylidae\n",
       "23              Hylidae\n",
       "24              Hylidae\n",
       "25              Hylidae\n",
       "26              Hylidae\n",
       "27              Hylidae\n",
       "28              Hylidae\n",
       "29              Hylidae\n",
       "             ...       \n",
       "7165            Hylidae\n",
       "7166            Hylidae\n",
       "7167    Leptodactylidae\n",
       "7168            Hylidae\n",
       "7169            Hylidae\n",
       "7170            Hylidae\n",
       "7171            Hylidae\n",
       "7172            Hylidae\n",
       "7173            Hylidae\n",
       "7174            Hylidae\n",
       "7175            Hylidae\n",
       "7176            Hylidae\n",
       "7177            Hylidae\n",
       "7178            Hylidae\n",
       "7179            Hylidae\n",
       "7180            Hylidae\n",
       "7181            Hylidae\n",
       "7182            Hylidae\n",
       "7183            Hylidae\n",
       "7184            Hylidae\n",
       "7185            Hylidae\n",
       "7186            Hylidae\n",
       "7187            Hylidae\n",
       "7188            Hylidae\n",
       "7189            Hylidae\n",
       "7190            Hylidae\n",
       "7191            Hylidae\n",
       "7192            Hylidae\n",
       "7193            Hylidae\n",
       "7194            Hylidae\n",
       "Name: col3, Length: 7195, dtype: object"
      ]
     },
     "execution_count": 203,
     "metadata": {},
     "output_type": "execute_result"
    }
   ],
   "source": [
    "y_pred_family"
   ]
  },
  {
   "cell_type": "code",
   "execution_count": 204,
   "metadata": {
    "scrolled": true
   },
   "outputs": [
    {
     "data": {
      "text/plain": [
       "0       Hypsiboas\n",
       "1       Hypsiboas\n",
       "2       Hypsiboas\n",
       "3       Hypsiboas\n",
       "4       Hypsiboas\n",
       "5       Hypsiboas\n",
       "6       Hypsiboas\n",
       "7       Hypsiboas\n",
       "8       Hypsiboas\n",
       "9       Hypsiboas\n",
       "10      Hypsiboas\n",
       "11      Hypsiboas\n",
       "12      Hypsiboas\n",
       "13      Hypsiboas\n",
       "14      Hypsiboas\n",
       "15      Hypsiboas\n",
       "16      Hypsiboas\n",
       "17      Hypsiboas\n",
       "18      Hypsiboas\n",
       "19      Hypsiboas\n",
       "20      Hypsiboas\n",
       "21      Hypsiboas\n",
       "22      Hypsiboas\n",
       "23      Hypsiboas\n",
       "24      Hypsiboas\n",
       "25      Hypsiboas\n",
       "26      Hypsiboas\n",
       "27      Hypsiboas\n",
       "28      Hypsiboas\n",
       "29      Hypsiboas\n",
       "          ...    \n",
       "7165    Hypsiboas\n",
       "7166    Hypsiboas\n",
       "7167    Adenomera\n",
       "7168    Hypsiboas\n",
       "7169    Hypsiboas\n",
       "7170    Hypsiboas\n",
       "7171    Hypsiboas\n",
       "7172    Hypsiboas\n",
       "7173    Hypsiboas\n",
       "7174    Hypsiboas\n",
       "7175    Hypsiboas\n",
       "7176    Hypsiboas\n",
       "7177    Hypsiboas\n",
       "7178    Hypsiboas\n",
       "7179    Hypsiboas\n",
       "7180    Hypsiboas\n",
       "7181    Hypsiboas\n",
       "7182    Hypsiboas\n",
       "7183    Hypsiboas\n",
       "7184    Hypsiboas\n",
       "7185    Hypsiboas\n",
       "7186    Hypsiboas\n",
       "7187    Hypsiboas\n",
       "7188    Hypsiboas\n",
       "7189    Hypsiboas\n",
       "7190    Hypsiboas\n",
       "7191    Hypsiboas\n",
       "7192    Hypsiboas\n",
       "7193    Hypsiboas\n",
       "7194    Hypsiboas\n",
       "Name: col3, Length: 7195, dtype: object"
      ]
     },
     "execution_count": 204,
     "metadata": {},
     "output_type": "execute_result"
    }
   ],
   "source": [
    "y_pred_genus"
   ]
  },
  {
   "cell_type": "code",
   "execution_count": 205,
   "metadata": {
    "scrolled": true
   },
   "outputs": [
    {
     "data": {
      "text/plain": [
       "0            HypsiboasCordobae\n",
       "1            HypsiboasCordobae\n",
       "2            HypsiboasCordobae\n",
       "3            HypsiboasCordobae\n",
       "4            HypsiboasCordobae\n",
       "5            HypsiboasCordobae\n",
       "6            HypsiboasCordobae\n",
       "7            HypsiboasCordobae\n",
       "8            HypsiboasCordobae\n",
       "9            HypsiboasCordobae\n",
       "10           HypsiboasCordobae\n",
       "11           HypsiboasCordobae\n",
       "12           HypsiboasCordobae\n",
       "13           HypsiboasCordobae\n",
       "14           HypsiboasCordobae\n",
       "15           HypsiboasCordobae\n",
       "16           HypsiboasCordobae\n",
       "17           HypsiboasCordobae\n",
       "18           HypsiboasCordobae\n",
       "19           HypsiboasCordobae\n",
       "20           HypsiboasCordobae\n",
       "21           HypsiboasCordobae\n",
       "22           HypsiboasCordobae\n",
       "23           HypsiboasCordobae\n",
       "24           HypsiboasCordobae\n",
       "25           HypsiboasCordobae\n",
       "26           HypsiboasCordobae\n",
       "27           HypsiboasCordobae\n",
       "28           HypsiboasCordobae\n",
       "29           HypsiboasCordobae\n",
       "                 ...          \n",
       "7165         HypsiboasCordobae\n",
       "7166         HypsiboasCordobae\n",
       "7167    AdenomeraHylaedactylus\n",
       "7168         HypsiboasCordobae\n",
       "7169         HypsiboasCordobae\n",
       "7170         HypsiboasCordobae\n",
       "7171         HypsiboasCordobae\n",
       "7172         HypsiboasCordobae\n",
       "7173         HypsiboasCordobae\n",
       "7174         HypsiboasCordobae\n",
       "7175         HypsiboasCordobae\n",
       "7176         HypsiboasCordobae\n",
       "7177         HypsiboasCordobae\n",
       "7178         HypsiboasCordobae\n",
       "7179         HypsiboasCordobae\n",
       "7180         HypsiboasCordobae\n",
       "7181         HypsiboasCordobae\n",
       "7182         HypsiboasCordobae\n",
       "7183         HypsiboasCordobae\n",
       "7184         HypsiboasCordobae\n",
       "7185         HypsiboasCordobae\n",
       "7186         HypsiboasCordobae\n",
       "7187         HypsiboasCordobae\n",
       "7188         HypsiboasCordobae\n",
       "7189         HypsiboasCordobae\n",
       "7190         HypsiboasCordobae\n",
       "7191         HypsiboasCordobae\n",
       "7192         HypsiboasCordobae\n",
       "7193         HypsiboasCordobae\n",
       "7194         HypsiboasCordobae\n",
       "Name: col3, Length: 7195, dtype: object"
      ]
     },
     "execution_count": 205,
     "metadata": {},
     "output_type": "execute_result"
    }
   ],
   "source": [
    "y_pred_species"
   ]
  },
  {
   "cell_type": "markdown",
   "metadata": {},
   "source": [
    "### (c) Calculate the average Hamming distance (score) between the true labels and the labels assigned by clusters."
   ]
  },
  {
   "cell_type": "code",
   "execution_count": 206,
   "metadata": {},
   "outputs": [
    {
     "name": "stdout",
     "output_type": "stream",
     "text": [
      "hamming_loss_kmeans: 0.2985406532314107\n"
     ]
    }
   ],
   "source": [
    "y_train3 = pd.DataFrame(np.zeros((len(labels),3)))\n",
    "y_pred3 = pd.DataFrame(np.zeros((len(labels),3)))\n",
    "y_train3.iloc[:,0] = y_train_family\n",
    "y_train3.iloc[:,1] = y_train_genus\n",
    "y_train3.iloc[:,2] = y_train_species\n",
    "y_pred3.iloc[:,0] = y_pred_family\n",
    "y_pred3.iloc[:,1] = y_pred_genus\n",
    "y_pred3.iloc[:,2] = y_pred_species\n",
    "hamming_loss_kmeans = np.sum(np.not_equal(y_train3.values, y_pred3.values))/float(y_train3.values.size)\n",
    "print('hamming_loss_kmeans:',hamming_loss_kmeans)"
   ]
  }
 ],
 "metadata": {
  "kernelspec": {
   "display_name": "Python 3",
   "language": "python",
   "name": "python3"
  },
  "language_info": {
   "codemirror_mode": {
    "name": "ipython",
    "version": 3
   },
   "file_extension": ".py",
   "mimetype": "text/x-python",
   "name": "python",
   "nbconvert_exporter": "python",
   "pygments_lexer": "ipython3",
   "version": "3.6.5"
  }
 },
 "nbformat": 4,
 "nbformat_minor": 2
}
